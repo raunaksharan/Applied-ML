{
  "nbformat": 4,
  "nbformat_minor": 0,
  "metadata": {
    "colab": {
      "provenance": [],
      "authorship_tag": "ABX9TyMlrPL6x0CGSHT0d9iiqykM",
      "include_colab_link": true
    },
    "kernelspec": {
      "name": "python3",
      "display_name": "Python 3"
    },
    "language_info": {
      "name": "python"
    }
  },
  "cells": [
    {
      "cell_type": "markdown",
      "metadata": {
        "id": "view-in-github",
        "colab_type": "text"
      },
      "source": [
        "<a href=\"https://colab.research.google.com/github/raunaksharan/Applied-ML/blob/main/tasks/MarkovChain.ipynb\" target=\"_parent\"><img src=\"https://colab.research.google.com/assets/colab-badge.svg\" alt=\"Open In Colab\"/></a>"
      ]
    },
    {
      "cell_type": "code",
      "source": [
        "import numpy as np\n",
        "import matplotlib.pyplot as plt\n",
        "import pandas as pd\n",
        "import seaborn as sns"
      ],
      "metadata": {
        "id": "0CW4VcQiJuVM"
      },
      "execution_count": 3,
      "outputs": []
    },
    {
      "cell_type": "code",
      "execution_count": 10,
      "metadata": {
        "id": "N_lvGzvcHclS"
      },
      "outputs": [],
      "source": [
        "def markov_p(data):\n",
        "    channel_range = np.unique(data)\n",
        "    channel_bins = np.append(channel_range, 11)\n",
        "    data_next = np.roll(data, -1)\n",
        "    matrix = []\n",
        "    for i in channel_range:\n",
        "        current_row = np.histogram(data_next[data == i], bins=channel_bins)[0]\n",
        "        current_row = current_row / np.sum(current_row)\n",
        "        matrix.append(current_row)\n",
        "    return np.array(matrix)"
      ]
    },
    {
      "cell_type": "code",
      "source": [
        "from google.colab import drive\n",
        "drive.mount('/content/drive')"
      ],
      "metadata": {
        "id": "FFPdTS8rR6i1"
      },
      "execution_count": null,
      "outputs": []
    },
    {
      "cell_type": "code",
      "source": [
        "df_train = pd.read_csv(\"sample.csv\")\n"
      ],
      "metadata": {
        "id": "hPtduQ8FH793"
      },
      "execution_count": 4,
      "outputs": []
    },
    {
      "cell_type": "code",
      "source": [
        "df_train.loc[0:3]['open_channels'].hist()"
      ],
      "metadata": {
        "colab": {
          "base_uri": "https://localhost:8080/",
          "height": 282
        },
        "id": "0g922O0hNGJ7",
        "outputId": "1faf4a34-5257-43e1-e0db-91a0b9fd90a8"
      },
      "execution_count": 7,
      "outputs": [
        {
          "output_type": "execute_result",
          "data": {
            "text/plain": [
              "<matplotlib.axes._subplots.AxesSubplot at 0x7ff07b4b9c40>"
            ]
          },
          "metadata": {},
          "execution_count": 7
        },
        {
          "output_type": "display_data",
          "data": {
            "text/plain": [
              "<Figure size 432x288 with 1 Axes>"
            ],
            "image/png": "[encoded data removed]"
          },
          "metadata": {
            "needs_background": "light"
          }
        }
      ]
    },
    {
      "cell_type": "markdown",
      "source": [
        "Training"
      ],
      "metadata": {
        "id": "s6jQz6SOJzzg"
      }
    },
    {
      "cell_type": "code",
      "source": [
        "train_opench = df_train[\"open_channels\"].values.reshape(-1,500000)"
      ],
      "metadata": {
        "id": "aQ9el2cKJl83"
      },
      "execution_count": 8,
      "outputs": []
    },
    {
      "cell_type": "markdown",
      "source": [],
      "metadata": {
        "id": "t9bCULRZOlMp"
      }
    },
    {
      "cell_type": "code",
      "source": [
        "def create_axes_grid(numplots_x, numplots_y, plotsize_x=6, plotsize_y=3):\n",
        "    fig, axes = plt.subplots(numplots_y, numplots_x)\n",
        "    fig.set_size_inches(plotsize_x * numplots_x, plotsize_y * numplots_y)\n",
        "    fig.subplots_adjust(wspace=0.05, hspace=0.05)\n",
        "    return fig, axes\n",
        "    "
      ],
      "metadata": {
        "id": "IEmQ_91ANk3_"
      },
      "execution_count": 12,
      "outputs": []
    },
    {
      "cell_type": "code",
      "source": [
        "p03 = markov_p(train_opench[3])\n",
        "\n",
        "fig, axes = create_axes_grid(1,1,10,5)\n",
        "axes.set_title('Markov Transition Matrix P for sequence 3')\n",
        "sns.heatmap(\n",
        "    p03,\n",
        "    annot=True, fmt='.3f', cmap='Blues', cbar=False,\n",
        "    ax=axes, vmin=0, vmax=0.5, linewidths=2);"
      ],
      "metadata": {
        "colab": {
          "base_uri": "https://localhost:8080/",
          "height": 336
        },
        "id": "ruX_Vp_fJ61W",
        "outputId": "7f099e72-9815-4d11-caeb-35cfb8e9b873"
      },
      "execution_count": 13,
      "outputs": [
        {
          "output_type": "display_data",
          "data": {
            "text/plain": [
              "<Figure size 720x360 with 1 Axes>"
            ],
            "image/png": "[encoded data removed]"
          },
          "metadata": {
            "needs_background": "light"
          }
        }
      ]
    },
    {
      "cell_type": "code",
      "source": [
        "eig_values, eig_vectors = np.linalg.eig(np.transpose(p03))\n",
        "print(\"Eigenvalues :\", eig_values)"
      ],
      "metadata": {
        "colab": {
          "base_uri": "https://localhost:8080/"
        },
        "id": "koP1nCNXNXi6",
        "outputId": "059f216d-f68e-4214-9d80-5e8d42becff7"
      },
      "execution_count": 16,
      "outputs": [
        {
          "output_type": "stream",
          "name": "stdout",
          "text": [
            "Eigenvalues : [1.]\n"
          ]
        }
      ]
    },
    {
      "cell_type": "code",
      "source": [
        "np.histogram(train_opench[3], bins=[0,1,2,3,4], density=True)[0]"
      ],
      "metadata": {
        "colab": {
          "base_uri": "https://localhost:8080/"
        },
        "id": "o6MIA3QHO3LN",
        "outputId": "6f082fb8-5d19-4d29-9be4-b45ce6da9bc2"
      },
      "execution_count": 17,
      "outputs": [
        {
          "output_type": "execute_result",
          "data": {
            "text/plain": [
              "array([1., 0., 0., 0.])"
            ]
          },
          "metadata": {},
          "execution_count": 17
        }
      ]
    },
    {
      "cell_type": "code",
      "source": [],
      "metadata": {
        "id": "DrUtpNcNPCa-"
      },
      "execution_count": null,
      "outputs": []
    }
  ]
}